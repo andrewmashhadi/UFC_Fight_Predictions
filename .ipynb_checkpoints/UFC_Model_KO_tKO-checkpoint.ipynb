{
 "cells": [
  {
   "cell_type": "markdown",
   "id": "76b1254c",
   "metadata": {},
   "source": [
    "# Scrape Results of all UFC Fights"
   ]
  },
  {
   "cell_type": "code",
   "execution_count": null,
   "id": "e4047445",
   "metadata": {},
   "outputs": [],
   "source": [
    "from bs4 import BeautifulSoup\n",
    "import requests\n",
    "import pickle\n",
    "import os\n",
    "\n",
    "# include all paths to data from local storage location\n",
    "PATH_TO_UFC_FIGHT_RESULTS = os.environ['DATAFILES_PATH'] + '/UFC_Results_Modeling/' + 'fight_results.pkl'\n",
    "PATH_TO_UFC_FIGHT_PRED_DATA = os.environ['DATAFILES_PATH'] + '/UFC_Results_Modeling/' + 'fight_data.csv'\n"
   ]
  },
  {
   "cell_type": "code",
   "execution_count": null,
   "id": "0275e54d",
   "metadata": {},
   "outputs": [],
   "source": [
    "fight_res = {}\n",
    "\n",
    "url = requests.get(\"http://ufcstats.com/statistics/events/completed?page=all\")\n",
    "html = url.text\n",
    "\n",
    "soup = BeautifulSoup(html)\n",
    "\n",
    "for i, a in enumerate(soup.find_all('a', href=True)):\n",
    "    \n",
    "    if i in set(range(60, 636)):\n",
    "        print(\"Reading UFC Event:\", a['href'])\n",
    "        ev_url = requests.get(a['href'])\n",
    "        ev_html = ev_url.text\n",
    "        ev_soup = BeautifulSoup(ev_html)\n",
    "        tr = ev_soup.find_all('tr', attrs={'class': 'b-fight-details__table-row b-fight-details__table-row__hover js-fight-details-click'})\n",
    "        \n",
    "        for el in tr:\n",
    "            p = el.find_all(\"p\", attrs={'class': 'b-fight-details__table-text'})\n",
    "            if p is not None:\n",
    "                print(\"Fighter #1:\", p[1].get_text().strip())\n",
    "                print(\"Fighter #2:\", p[2].get_text().strip())\n",
    "                print(\"Win by:\", p[12].get_text().strip())\n",
    "                \n",
    "                f1 = p[1].get_text().strip().lower().replace(' ', '_')\n",
    "                f2 = p[2].get_text().strip().lower().replace(' ', '_')\n",
    "                w_method = p[12].get_text().strip()\n",
    "\n",
    "                fight_res[min(f1, f2) + '_'+ max(f1, f2)] = w_method\n",
    "            \n",
    "        \n",
    "\n",
    "        \n",
    "# Write out results to file\n",
    "with open(PATH_TO_UFC_FIGHT_RESULTS, 'wb') as f:\n",
    "    pickle.dump(fight_res, f)"
   ]
  },
  {
   "cell_type": "markdown",
   "id": "b46eb1e7",
   "metadata": {},
   "source": [
    "# Or load in the data"
   ]
  },
  {
   "cell_type": "code",
   "execution_count": 1,
   "id": "23ef70d6",
   "metadata": {},
   "outputs": [],
   "source": [
    "import numpy as np\n",
    "import matplotlib.pyplot as plt\n",
    "import pandas as pd\n",
    "import pickle\n",
    "import os\n",
    "\n",
    "# include all paths to data from local storage location\n",
    "PATH_TO_UFC_FIGHT_RESULTS = os.environ['DATAFILES_PATH'] + '/UFC_Results_Modeling/' + 'fight_results.pkl'\n",
    "PATH_TO_UFC_FIGHT_PRED_DATA = os.environ['DATAFILES_PATH'] + '/UFC_Results_Modeling/' + 'fight_data.csv'\n",
    "\n",
    "# Load in results from file\n",
    "with open(PATH_TO_UFC_FIGHT_RESULTS, 'rb') as f:\n",
    "    fight_res = pickle.load(f)"
   ]
  },
  {
   "cell_type": "markdown",
   "id": "ae01efe7",
   "metadata": {},
   "source": [
    "# Fill in the UFC data with missing KO/TKO information"
   ]
  },
  {
   "cell_type": "code",
   "execution_count": 2,
   "id": "a7c76285",
   "metadata": {},
   "outputs": [],
   "source": [
    "ufc_df = pd.read_csv(PATH_TO_UFC_FIGHT_PRED_DATA)\n",
    "fighters = ufc_df[['R_fighter', 'B_fighter']]\n",
    "\n",
    "app_results = []\n",
    "skipped_count = 0\n",
    "\n",
    "for i in range(len(fighters)):\n",
    "    print(fighters.iloc[i, 0], 'vs', fighters.iloc[i, 1])\n",
    "    f1 = fighters.iloc[i, 0].strip().lower().replace(' ', '_')\n",
    "    f2 = fighters.iloc[i, 1].strip().lower().replace(' ', '_')\n",
    "    try:\n",
    "        result = fight_res[min(f1, f2) + '_'+ max(f1, f2)]\n",
    "        app_results.append(result)\n",
    "    except KeyError:\n",
    "        print('Skipped')\n",
    "        app_results.append('Unknown')\n",
    "        skipped_count += 1\n",
    "\n",
    "ufc_df['results'] = pd.Index(app_results)\n",
    "\n",
    "# remove NaNs\n",
    "ufc_df = ufc_df.dropna()"
   ]
  },
  {
   "cell_type": "code",
   "execution_count": 3,
   "id": "e8c342cd",
   "metadata": {},
   "outputs": [
    {
     "name": "stdout",
     "output_type": "stream",
     "text": [
      "X Shape: (3890, 154) | Y Shape: (3890, 2)\n",
      "Percentage of postives: 32.2879177377892 %\n"
     ]
    }
   ],
   "source": [
    "ufc_data = ufc_df.loc[:, 'title_bout':'R_age']\n",
    "del ufc_data['B_Weight_lbs'], ufc_data['R_Weight_lbs']\n",
    "\n",
    "X = pd.get_dummies(ufc_data).to_numpy()\n",
    "Y = pd.get_dummies(ufc_df['results'] == 'KO/TKO').to_numpy()\n",
    "\n",
    "print('X Shape:', X.shape, '| Y Shape:', Y.shape)\n",
    "print('Percentage of postives:', 100 * sum(Y[:, 1]) / Y.shape[0], '%')"
   ]
  },
  {
   "cell_type": "markdown",
   "id": "be93520b",
   "metadata": {},
   "source": [
    "# Multilayer Neural Net Model with Regularization\n",
    "\n",
    "Using the Multilayer Neural Net Alone resulted in a poor test error. I will attempt to use weight decay regulariazation to provide a way to not use all weights in the neural net construction. We start with large number of Nodes per layer (like 100) since regularization will 'shrink' those that are unnecessary."
   ]
  },
  {
   "cell_type": "code",
   "execution_count": 77,
   "id": "0f2d2d52",
   "metadata": {},
   "outputs": [],
   "source": [
    "from sklearn.model_selection import train_test_split\n",
    "from sklearn.model_selection import KFold\n",
    "from keras.layers import Dense\n",
    "from keras.models import Sequential\n",
    "from keras.backend import clear_session # for memory management \n",
    "from sklearn.metrics import confusion_matrix\n",
    "from keras import regularizers # to provide weight decay\n",
    "\n",
    "X, X_test, Y, Y_test = train_test_split(X, Y, test_size=0.2, random_state=21, stratify=Y)\n",
    "n_rows, n_cols = X.shape"
   ]
  },
  {
   "cell_type": "code",
   "execution_count": 27,
   "id": "302aa791",
   "metadata": {},
   "outputs": [],
   "source": [
    "def create_model(lmda, n_lyrs):\n",
    "    \n",
    "    clear_session()\n",
    "    model = Sequential()\n",
    "    model.add(Dense(100, activation='relu', input_shape = (n_cols,),\n",
    "                                      kernel_regularizer=regularizers.l2(lmda),\n",
    "                                      bias_regularizer=regularizers.l2(lmda),\n",
    "                                      activity_regularizer=regularizers.l2(lmda)))\n",
    "\n",
    "    for i in range(n_lyrs):\n",
    "        model.add(Dense(100, activation='relu',\n",
    "                     kernel_regularizer=regularizers.l2(lmda),\n",
    "                     bias_regularizer=regularizers.l2(lmda),\n",
    "                     activity_regularizer=regularizers.l2(lmda)))\n",
    "    \n",
    "    model.add(Dense(2, activation='softmax'))\n",
    "    return model"
   ]
  },
  {
   "cell_type": "markdown",
   "id": "f0508233",
   "metadata": {},
   "source": [
    "Hyper-Parameter Tuning is done here on the number of hidden layers in out NNet and the regularization paramters. We perform and grid search, and use 5-fold CV to estimate the test error for each pair of hyper-parameters. "
   ]
  },
  {
   "cell_type": "code",
   "execution_count": 6,
   "id": "333046da",
   "metadata": {},
   "outputs": [
    {
     "name": "stderr",
     "output_type": "stream",
     "text": [
      "2022-09-19 20:41:06.682041: I tensorflow/core/platform/cpu_feature_guard.cc:145] This TensorFlow binary is optimized with Intel(R) MKL-DNN to use the following CPU instructions in performance critical operations:  SSE4.1 SSE4.2\n",
      "To enable them in non-MKL-DNN operations, rebuild TensorFlow with the appropriate compiler flags.\n",
      "2022-09-19 20:41:06.682465: I tensorflow/core/common_runtime/process_util.cc:115] Creating new thread pool with default inter op setting: 8. Tune using inter_op_parallelism_threads for best performance.\n"
     ]
    },
    {
     "name": "stdout",
     "output_type": "stream",
     "text": [
      "5-Fold CV Est. Test Accuracy with lambda = 1e-05 and 2 layers: 0.6728860972475265\n",
      "5-Fold CV Est. Test Accuracy with lambda = 1e-05 and 3 layers: 0.6738486629884439\n",
      "5-Fold CV Est. Test Accuracy with lambda = 1e-05 and 4 layers: 0.6719230153855682\n"
     ]
    }
   ],
   "source": [
    "perform_grid_search = False\n",
    "\n",
    "if perform_grid_search\n",
    "\n",
    "    lmda = 10.0**(-1*np.arange(3, 10)) # regularization hyper params\n",
    "    n_lyrs = np.arange(2, 4) # number of hidden layers\n",
    "\n",
    "    kf = KFold(n_splits=5)\n",
    "    kf.get_n_splits(X)\n",
    "\n",
    "    # init grid search results matrix\n",
    "    test_acc = np.zeros((len(lmda), len(n_lyrs)))\n",
    "\n",
    "    # perform grid search\n",
    "    for i in range(len(lmda)):\n",
    "        for j in range(len(n_lyrs)):\n",
    "\n",
    "            folds_acc = []\n",
    "\n",
    "            for train_index, val_index in kf.split(X):\n",
    "\n",
    "                X_train, X_val = X[train_index], X[val_index]\n",
    "                Y_train, Y_val = Y[train_index], Y[val_index]\n",
    "\n",
    "                model = create_model(lmda[i], n_lyrs[j])\n",
    "                model.compile(optimizer='adam', loss='categorical_crossentropy', metrics=['accuracy'])\n",
    "                model.fit(X_train, Y_train, epochs=50, verbose=0)\n",
    "\n",
    "                # get test accuracy for this fold\n",
    "                predictions = model.predict(X_val)\n",
    "                Y_p = np.argmax(predictions, axis=1)\n",
    "                Y_t = Y_val[:, 1]\n",
    "                folds_acc.append(np.sum(Y_p == Y_t) / len(Y_p))\n",
    "\n",
    "                del model\n",
    "\n",
    "\n",
    "            test_acc[i, j] = np.mean(folds_acc)\n",
    "            print('5-Fold CV Est. Test Accuracy with lambda =', lmda[i], 'and', n_lyrs[j], ' hidden layers:', test_acc[i, j])\n"
   ]
  },
  {
   "cell_type": "code",
   "execution_count": 3,
   "id": "b27406ae",
   "metadata": {},
   "outputs": [],
   "source": [
    "print(test_acc)\n",
    "\n",
    "# seems like lambda = 1e-9 and 3 hidden layers provide the best estimated test error\n",
    "lmda = 1e-9\n",
    "n_lyrs = 3\n",
    "\n",
    "model = create_model(lmda, n_lyrs)\n",
    "model.compile(optimizer='adam', loss='categorical_crossentropy', metrics=['accuracy'])\n",
    "model.fit(X_train, Y_train, epochs=100, verbose=1)"
   ]
  },
  {
   "cell_type": "code",
   "execution_count": 74,
   "id": "ffec8df2",
   "metadata": {},
   "outputs": [
    {
     "name": "stdout",
     "output_type": "stream",
     "text": [
      "Reported Test Accuracy: 0.869983948635634\n"
     ]
    }
   ],
   "source": [
    "predictions = model.predict(X_test)\n",
    "Y_p = np.argmax(predictions, axis=1)\n",
    "Y_t = Y_test[:, 1]\n",
    "test_acc = np.sum(Y_p == Y_t) / len(Y_p)\n",
    "print('Reported Test Accuracy:', test_acc)"
   ]
  },
  {
   "cell_type": "markdown",
   "id": "9dbc25d2",
   "metadata": {},
   "source": [
    "Not terrible accuracy, but we also want to look at other metrics that may be more informative for us. For example, True-Positive-Rate may be super useful to us if we are are placing bets on a KO/tKO."
   ]
  },
  {
   "cell_type": "code",
   "execution_count": 85,
   "id": "919df407",
   "metadata": {},
   "outputs": [
    {
     "data": {
      "image/png": "[encoded data removed]",
      "text/plain": [
       "<Figure size 432x288 with 1 Axes>"
      ]
     },
     "metadata": {
      "needs_background": "light"
     },
     "output_type": "display_data"
    }
   ],
   "source": [
    "thresh = np.linspace(0, 1, 500)\n",
    "tpr = []\n",
    "fpr = []\n",
    "\n",
    "for i in thresh:\n",
    "    \n",
    "    Y_p = (predictions[:, 1] > i).astype(int)\n",
    "    tn, fp, fn, tp = confusion_matrix(Y_t, Y_p).ravel()\n",
    "    tpr.append(tp/(tp+fn))\n",
    "    fpr.append(fp/(fp+tn))\n",
    "    \n",
    "    \n",
    "plt.plot(fpr, tpr)\n",
    "plt.xlim([0, 1])\n",
    "plt.ylim([0, 1])\n",
    "plt.xlabel('False Postive Rate')\n",
    "plt.ylabel('True Positive Rate')\n",
    "plt.title('ROC Curve for NNet with Regularization')\n",
    "plt.grid(True)\n",
    "plt.show()"
   ]
  },
  {
   "cell_type": "markdown",
   "id": "b8690c2c",
   "metadata": {},
   "source": [
    "Things to add: \n",
    "\n",
    "* Try Feature Selection with Random Forest (with tuning and metrics in scikit-leanrn) or PCA. \n",
    "* Ex: https://scikit-learn.org/stable/auto_examples/ensemble/plot_forest_importances.html\n",
    "* and https://scikit-learn.org/stable/modules/generated/sklearn.decomposition.PCA.html\n",
    "* Bagging (incase the random starting configurations change the minima, averaging may help)\n",
    "* ROC curves and matrices, precision recall curves, and F1 scores. "
   ]
  }
 ],
 "metadata": {
  "kernelspec": {
   "display_name": "Python 3 (ipykernel)",
   "language": "python",
   "name": "python3"
  },
  "language_info": {
   "codemirror_mode": {
    "name": "ipython",
    "version": 3
   },
   "file_extension": ".py",
   "mimetype": "text/x-python",
   "name": "python",
   "nbconvert_exporter": "python",
   "pygments_lexer": "ipython3",
   "version": "3.7.13"
  }
 },
 "nbformat": 4,
 "nbformat_minor": 5
}
